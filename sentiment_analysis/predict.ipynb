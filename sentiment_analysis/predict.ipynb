{
 "cells": [
  {
   "cell_type": "code",
   "execution_count": 35,
   "metadata": {},
   "outputs": [],
   "source": [
    "import pickle\n",
    "import re\n",
    "from nltk.corpus import stopwords\n",
    "from nltk.tokenize import word_tokenize\n",
    "from nltk.stem import WordNetLemmatizer\n",
    "from textblob import TextBlob\n",
    "import contractions\n",
    "import emoji\n",
    "from scipy.sparse import hstack"
   ]
  },
  {
   "cell_type": "code",
   "execution_count": 36,
   "metadata": {},
   "outputs": [
    {
     "name": "stderr",
     "output_type": "stream",
     "text": [
      "[nltk_data] Downloading package stopwords to\n",
      "[nltk_data]     C:\\Users\\krish\\AppData\\Roaming\\nltk_data...\n",
      "[nltk_data]   Package stopwords is already up-to-date!\n",
      "[nltk_data] Downloading package punkt to\n",
      "[nltk_data]     C:\\Users\\krish\\AppData\\Roaming\\nltk_data...\n",
      "[nltk_data]   Package punkt is already up-to-date!\n",
      "[nltk_data] Downloading package wordnet to\n",
      "[nltk_data]     C:\\Users\\krish\\AppData\\Roaming\\nltk_data...\n",
      "[nltk_data]   Package wordnet is already up-to-date!\n",
      "[nltk_data] Downloading package punkt_tab to\n",
      "[nltk_data]     C:\\Users\\krish\\AppData\\Roaming\\nltk_data...\n",
      "[nltk_data]   Package punkt_tab is already up-to-date!\n"
     ]
    }
   ],
   "source": [
    "import nltk\n",
    "nltk.download('stopwords')\n",
    "nltk.download('punkt')\n",
    "nltk.download('wordnet')\n",
    "nltk.download('punkt_tab')\n",
    "\n",
    "stop_words = set(stopwords.words('english'))\n",
    "lemmatizer = WordNetLemmatizer()"
   ]
  },
  {
   "cell_type": "code",
   "execution_count": 37,
   "metadata": {},
   "outputs": [],
   "source": [
    "tfidf_path = \"K:/Computer Science/AIMLDL/Brand_Reputation_Management_System/sentiment_analysis/feature_extraction/features/tfidf.pkl\"\n",
    "    \n",
    "with open(tfidf_path, 'rb') as file:\n",
    "    tfidf = pickle.load(file)\n",
    "\n",
    "label_encoder_path = \"K:/Computer Science/AIMLDL/Brand_Reputation_Management_System/sentiment_analysis/feature_extraction/features/label_encoder.pkl\"\n",
    "with open(label_encoder_path, 'rb') as f:\n",
    "    label_encoder = pickle.load(f)\n",
    "\n",
    "gender_encoder_path = \"K:/Computer Science/AIMLDL/Brand_Reputation_Management_System/sentiment_analysis/feature_extraction/features/gender_encoder.pkl\"\n",
    "with open(gender_encoder_path, 'rb') as f:\n",
    "    gender_encoder = pickle.load(f)\n",
    "\n",
    "model_path = \"K:/Computer Science/AIMLDL/Brand_Reputation_Management_System/sentiment_analysis/model_building/models/XGBClassifier.pkl\"\n",
    "with open(model_path, 'rb') as file:\n",
    "    model = pickle.load(file)"
   ]
  },
  {
   "cell_type": "code",
   "execution_count": 38,
   "metadata": {},
   "outputs": [],
   "source": [
    "def preprocess(text):\n",
    "    text = contractions.fix(text)\n",
    "    text = re.sub(r'http\\S+|www\\S+|https\\S+', '', text, flags=re.MULTILINE)\n",
    "    text = emoji.replace_emoji(text, replace='')\n",
    "    text = re.sub(r\"[^a-zA-Z\\s]\", \"\", text)    \n",
    "    text = text.lower()\n",
    "    text = str(TextBlob(text).correct())\n",
    "    words = word_tokenize(text)\n",
    "    words = [word for word in words if word not in stop_words]\n",
    "    words = [lemmatizer.lemmatize(word) for word in words]\n",
    "    preprocessed_text = \" \".join(words)\n",
    "    \n",
    "    return preprocessed_text\n",
    "\n",
    "from scipy.sparse import csr_matrix\n",
    "\n",
    "def predict_sentiment(text, age, gender):\n",
    "    preprocessed_text = preprocess(text)\n",
    "    custom_input_tfidf = tfidf.transform([preprocessed_text])\n",
    "\n",
    "    # Normalize gender input and validate\n",
    "    gender = gender.lower()\n",
    "    if gender not in gender_encoder.classes_:\n",
    "        raise ValueError(f\"Unsupported gender label: '{gender}'. Please use one of {gender_encoder.classes_}.\")\n",
    "    gender_encoded = gender_encoder.transform([gender])[0]\n",
    "\n",
    "    # Convert age and gender_encoded to sparse format\n",
    "    metadata_features = csr_matrix([[age, gender_encoded]])\n",
    "\n",
    "    # Combine tfidf features and metadata\n",
    "    combined_features = hstack([custom_input_tfidf, metadata_features])\n",
    "\n",
    "    # Predict sentiment\n",
    "    prediction = model.predict(combined_features)\n",
    "    predicted_sentiment = label_encoder.inverse_transform(prediction)[0]\n",
    "    return predicted_sentiment\n"
   ]
  },
  {
   "cell_type": "code",
   "execution_count": 39,
   "metadata": {},
   "outputs": [
    {
     "name": "stdout",
     "output_type": "stream",
     "text": [
      "Predicted sentiment: positive\n"
     ]
    }
   ],
   "source": [
    "custom_text = \"I've used this product for a while now, and it's been reliable. However, it's not the best I've ever used\"\n",
    "age = 20\n",
    "gender = \"female\"\n",
    "predicted_sentiment = predict_sentiment(custom_text, age, gender)\n",
    "print(f\"Predicted sentiment: {predicted_sentiment}\")"
   ]
  }
 ],
 "metadata": {
  "kernelspec": {
   "display_name": ".venv",
   "language": "python",
   "name": "python3"
  },
  "language_info": {
   "codemirror_mode": {
    "name": "ipython",
    "version": 3
   },
   "file_extension": ".py",
   "mimetype": "text/x-python",
   "name": "python",
   "nbconvert_exporter": "python",
   "pygments_lexer": "ipython3",
   "version": "3.11.0"
  }
 },
 "nbformat": 4,
 "nbformat_minor": 2
}
