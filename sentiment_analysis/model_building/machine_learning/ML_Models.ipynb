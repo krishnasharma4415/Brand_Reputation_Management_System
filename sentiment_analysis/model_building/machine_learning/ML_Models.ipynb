{
 "cells": [
  {
   "cell_type": "code",
   "execution_count": null,
   "metadata": {},
   "outputs": [],
   "source": [
    "import cudf\n",
    "import cuml\n",
    "import dask\n",
    "import dask.dataframe as dd\n",
    "from cuml.feature_extraction.text import TfidfVectorizer\n",
    "from cuml.naive_bayes import MultinomialNB\n",
    "from cuml.linear_model import LogisticRegression\n",
    "from cuml.ensemble import RandomForestClassifier\n",
    "from cuml.metrics import accuracy_score\n",
    "from dask_ml.model_selection import GridSearchCV, train_test_split\n",
    "from sklearn.metrics import classification_report, confusion_matrix\n",
    "import pandas as pd\n",
    "import seaborn as sns\n",
    "import matplotlib.pyplot as plt"
   ]
  },
  {
   "cell_type": "code",
   "execution_count": null,
   "metadata": {},
   "outputs": [],
   "source": [
    "df = cudf.read_csv(\"cleaned_dataset.csv\")\n",
    "X = df['cleaned_review']\n",
    "y = df['sentiment']"
   ]
  },
  {
   "cell_type": "code",
   "execution_count": null,
   "metadata": {},
   "outputs": [],
   "source": [
    "X_train, X_test, y_train, y_test = train_test_split(X, y, test_size=0.2, random_state=42)\n",
    "X_train = cudf.Series(X_train)\n",
    "X_test = cudf.Series(X_test)\n",
    "y_train = cudf.Series(y_train)\n",
    "y_test = cudf.Series(y_test)    "
   ]
  },
  {
   "cell_type": "code",
   "execution_count": null,
   "metadata": {},
   "outputs": [],
   "source": [
    "cluster = LocalCUDACluster()\n",
    "client = Client(cluster)\n",
    "models = {\n",
    "    'Logistic Regression': LogisticRegression(),\n",
    "    'Naive Bayes': MultinomialNB(),\n",
    "    'Random Forest': RandomForestClassifier(),\n",
    "    # Add XGBoost or any other GPU-compatible model\n",
    "}"
   ]
  },
  {
   "cell_type": "code",
   "execution_count": null,
   "metadata": {},
   "outputs": [],
   "source": [
    "results = {}\n",
    "for model_name, model in models.items():\n",
    "    model.fit(X_train, y_train)\n",
    "    y_pred = model.predict(X_test)\n",
    "    y_pred = y_pred.to_array()\n",
    "    y_test_cpu = y_test.to_array()  # Convert to CPU for compatibility with sklearn metrics\n",
    "    accuracy = accuracy_score(y_test_cpu, y_pred)\n",
    "    results[model_name] = accuracy\n",
    "\n",
    "    # Print classification report\n",
    "    print(f\"{model_name} Classification Report:\")\n",
    "    print(classification_report(y_test_cpu, y_pred))"
   ]
  },
  {
   "cell_type": "code",
   "execution_count": null,
   "metadata": {},
   "outputs": [],
   "source": [
    "results_df = pd.DataFrame(list(results.items()), columns=['Model', 'Accuracy'])\n",
    "print(results_df)"
   ]
  }
 ],
 "metadata": {
  "kernelspec": {
   "display_name": ".venv",
   "language": "python",
   "name": "python3"
  },
  "language_info": {
   "name": "python",
   "version": "3.11.0"
  }
 },
 "nbformat": 4,
 "nbformat_minor": 2
}
