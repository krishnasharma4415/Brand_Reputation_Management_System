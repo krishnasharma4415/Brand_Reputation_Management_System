{
 "cells": [
  {
   "cell_type": "code",
   "execution_count": null,
   "metadata": {},
   "outputs": [],
   "source": [
    "import torch\n",
    "import torch.nn as nn\n",
    "import torch.optim as optim\n",
    "from torch.utils.data import DataLoader, TensorDataset\n",
    "from sklearn.preprocessing import OneHotEncoder\n",
    "from sklearn.model_selection import train_test_split\n",
    "from sklearn.metrics import accuracy_score, classification_report, confusion_matrix\n",
    "import seaborn as sns\n",
    "import matplotlib.pyplot as plt\n",
    "import pandas as pd\n",
    "import numpy as np\n",
    "import pickle"
   ]
  },
  {
   "cell_type": "code",
   "execution_count": null,
   "metadata": {},
   "outputs": [],
   "source": [
    "df = pd.read_csv(\"processed_dataset.csv\")\n",
    "df.head()\n",
    "print(df['sentiment'].value_counts())\n",
    "df = df.dropna(subset=['cleaned_review', 'sentiment'])\n",
    "\n",
    "X = df['cleaned_review']\n",
    "y = df['sentiment']"
   ]
  },
  {
   "cell_type": "code",
   "execution_count": null,
   "metadata": {},
   "outputs": [],
   "source": [
    "with open('w2v_embeddings.pkl', 'rb') as f:\n",
    "    X_encoded = pickle.load(f)\n",
    "\n",
    "y_reshaped = y.values.reshape(-1, 1)\n",
    "encoder = OneHotEncoder()\n",
    "y_encoded = encoder.fit_transform(y_reshaped)"
   ]
  },
  {
   "cell_type": "code",
   "execution_count": null,
   "metadata": {},
   "outputs": [],
   "source": [
    "X_train, X_test, y_train, y_test = train_test_split(X_encoded, y_encoded, test_size=0.2, random_state=42)\n",
    "\n",
    "device = torch.device(\"cuda\" if torch.cuda.is_available() else \"cpu\")\n",
    "print(\"Using device:\", device)"
   ]
  },
  {
   "cell_type": "code",
   "execution_count": null,
   "metadata": {},
   "outputs": [],
   "source": [
    "num_non_zero_elements = y_train.getnnz()\n",
    "print(num_non_zero_elements)\n",
    "num_rows = y_train.shape[0]\n",
    "print(num_rows)"
   ]
  },
  {
   "cell_type": "code",
   "execution_count": null,
   "metadata": {},
   "outputs": [],
   "source": [
    "X_train_tensor = torch.tensor(X_train, dtype=torch.float32).to(device)\n",
    "X_test_tensor = torch.tensor(X_test, dtype=torch.float32).to(device)\n",
    "y_train_tensor = torch.tensor(np.argmax(y_train.toarray(), axis=1), dtype=torch.long).to(device)\n",
    "y_test_tensor = torch.tensor(np.argmax(y_test.toarray(), axis=1), dtype=torch.long).to(device)"
   ]
  },
  {
   "cell_type": "code",
   "execution_count": null,
   "metadata": {},
   "outputs": [],
   "source": [
    "train_dataset = TensorDataset(X_train_tensor, y_train_tensor)\n",
    "test_dataset = TensorDataset(X_test_tensor, y_test_tensor)\n",
    "\n",
    "train_loader = DataLoader(train_dataset, batch_size=64, shuffle=True, num_workers=4, pin_memory=False)\n",
    "test_loader = DataLoader(test_dataset, batch_size=64, shuffle=False, num_workers=4, pin_memory=False)   "
   ]
  },
  {
   "cell_type": "code",
   "execution_count": null,
   "metadata": {},
   "outputs": [],
   "source": [
    "class LSTMModel(nn.Module):\n",
    "    def __init__(self, input_dim, hidden_dim, output_dim):\n",
    "        super(LSTMModel, self).__init__()\n",
    "        self.lstm = nn.LSTM(input_dim, hidden_dim, batch_first=True)\n",
    "        self.fc = nn.Linear(hidden_dim, output_dim)\n",
    "\n",
    "    def forward(self, x):\n",
    "        # Ensure x is 3D: [batch_size, seq_length, input_dim]\n",
    "        x = x.unsqueeze(1)  # Add sequence length dimension (assuming seq_length=1)\n",
    "        _, (hn, _) = self.lstm(x)\n",
    "        out = self.fc(hn[-1])  # Take the last hidden state\n",
    "        return out  # Output shape: [batch_size, output_dim]\n",
    "\n",
    "# Define CNN model\n",
    "class CNNModel(nn.Module):\n",
    "    def __init__(self, input_dim, output_dim):\n",
    "        super(CNNModel, self).__init__()\n",
    "        self.conv1 = nn.Conv1d(in_channels=input_dim, out_channels=100, kernel_size=3)\n",
    "        self.fc = nn.Linear(100, output_dim)\n",
    "\n",
    "    def forward(self, x):\n",
    "        x = x.transpose(1, 2)  # Shape: [batch_size, input_dim, seq_length]\n",
    "        x = nn.functional.relu(self.conv1(x))\n",
    "        x = nn.functional.max_pool1d(x, x.size(2)).squeeze(2)  # Shape: [batch_size, 100]\n",
    "        return self.fc(x)  # Output shape: [batch_size, output_dim]\n",
    "\n",
    "# Define RNN model\n",
    "class RNNModel(nn.Module):\n",
    "    def __init__(self, input_dim, hidden_dim, output_dim):\n",
    "        super(RNNModel, self).__init__()\n",
    "        self.rnn = nn.RNN(input_dim, hidden_dim, batch_first=True)\n",
    "        self.fc = nn.Linear(hidden_dim, output_dim)\n",
    "\n",
    "    def forward(self, x):\n",
    "        x = x.unsqueeze(1)  # Add sequence length dimension (assuming seq_length=1)\n",
    "        _, hn = self.rnn(x)\n",
    "        return self.fc(hn[-1])  # Output shape: [batch_size, output_dim]\n",
    "\n",
    "# Define LSTM-CNN model\n",
    "class LSTMCNNModel(nn.Module):\n",
    "    def __init__(self, input_dim, hidden_dim, output_dim):\n",
    "        super(LSTMCNNModel, self).__init__()\n",
    "        self.lstm = nn.LSTM(input_dim, hidden_dim, batch_first=True)\n",
    "        self.conv = nn.Conv1d(in_channels=hidden_dim, out_channels=100, kernel_size=3)\n",
    "        self.fc = nn.Linear(100, output_dim)\n",
    "\n",
    "    def forward(self, x):\n",
    "        x = x.unsqueeze(1)  # Add sequence length dimension (assuming seq_length=1)\n",
    "        lstm_out, _ = self.lstm(x)\n",
    "        lstm_out = lstm_out.permute(0, 2, 1)  # For Conv1d compatibility\n",
    "        conv_out = nn.functional.relu(self.conv(lstm_out))\n",
    "        conv_out = nn.functional.max_pool1d(conv_out, conv_out.size(2)).squeeze(2)  # Shape: [batch_size, 100]\n",
    "        return self.fc(conv_out)  # Output shape: [batch_size, output_dim]"
   ]
  },
  {
   "cell_type": "code",
   "execution_count": null,
   "metadata": {},
   "outputs": [],
   "source": [
    "def train_model(model, train_loader, criterion, optimizer, device, num_epochs=10):\n",
    "    model.train()\n",
    "    \n",
    "    for epoch in range(num_epochs):\n",
    "        for batch_idx, (inputs, labels) in enumerate(train_loader):\n",
    "            inputs, labels = inputs.to(device), labels.to(device)\n",
    "            \n",
    "            # Forward pass\n",
    "            outputs = model(inputs)\n",
    "\n",
    "            # Compute loss based on criterion\n",
    "            loss = criterion(outputs, labels)  # Ensure outputs and labels have the same shape\n",
    "            \n",
    "            # Backward pass and optimization\n",
    "            optimizer.zero_grad()\n",
    "            loss.backward()\n",
    "            optimizer.step()\n",
    "\n",
    "            if batch_idx % 10 == 0:  # Print loss every 10 batches\n",
    "                print(f\"Epoch [{epoch+1}/{num_epochs}], Batch [{batch_idx}], Loss: {loss.item()}\")\n",
    "    \n",
    "    return model"
   ]
  },
  {
   "cell_type": "code",
   "execution_count": null,
   "metadata": {},
   "outputs": [],
   "source": [
    "input_dim = X_train_tensor.size(1)\n",
    "output_dim = y_train_tensor.size(1)  # Number of classes (one-hot encoded)\n",
    "hidden_dim = 128\n",
    "\n",
    "# Initialize models\n",
    "lstm_model = LSTMModel(input_dim, hidden_dim, output_dim).to(device)\n",
    "cnn_model = CNNModel(input_dim, output_dim).to(device)\n",
    "rnn_model = RNNModel(input_dim, hidden_dim, output_dim).to(device)\n",
    "lstm_cnn_model = LSTMCNNModel(input_dim, hidden_dim, output_dim).to(device)"
   ]
  },
  {
   "cell_type": "code",
   "execution_count": null,
   "metadata": {},
   "outputs": [],
   "source": [
    "criterion = nn.BCEWithLogitsLoss() if output_dim == 1 else nn.CrossEntropyLoss()\n",
    "\n",
    "# Optimizer function\n",
    "def get_optimizer(model, lr=0.001):\n",
    "    return optim.Adam(model.parameters(), lr=lr)"
   ]
  },
  {
   "cell_type": "code",
   "execution_count": null,
   "metadata": {},
   "outputs": [],
   "source": [
    "lstm_model = train_model(lstm_model, train_loader, criterion, get_optimizer(lstm_model), device)\n",
    "cnn_model = train_model(cnn_model, train_loader, criterion, get_optimizer(cnn_model), device)\n",
    "rnn_model = train_model(rnn_model, train_loader, criterion, get_optimizer(rnn_model), device)\n",
    "lstm_cnn_model = train_model(lstm_cnn_model, train_loader, criterion, get_optimizer(lstm_cnn_model), device)\n"
   ]
  },
  {
   "cell_type": "code",
   "execution_count": null,
   "metadata": {},
   "outputs": [],
   "source": [
    "def evaluate_model(model, test_loader):\n",
    "    model.eval()\n",
    "    all_preds = []\n",
    "    all_labels = []\n",
    "    with torch.no_grad():\n",
    "        for inputs, labels in test_loader:\n",
    "            inputs, labels = inputs.to(device), labels.to(device)\n",
    "            outputs = model(inputs)\n",
    "            _, preds = torch.max(outputs, 1)\n",
    "            all_preds.extend(preds.cpu().numpy())\n",
    "            all_labels.extend(labels.cpu().numpy())\n",
    "    \n",
    "    acc = accuracy_score(all_labels, all_preds)\n",
    "    print(\"Accuracy:\", acc)\n",
    "    print(classification_report(all_labels, all_preds))\n",
    "    sns.heatmap(confusion_matrix(all_labels, all_preds), annot=True, fmt=\"d\")\n",
    "    plt.show()"
   ]
  },
  {
   "cell_type": "code",
   "execution_count": null,
   "metadata": {},
   "outputs": [],
   "source": [
    "print(\"LSTM Model:\")\n",
    "evaluate_model(lstm_model, test_loader)"
   ]
  },
  {
   "cell_type": "code",
   "execution_count": null,
   "metadata": {},
   "outputs": [],
   "source": [
    "print(\"CNN Model:\")\n",
    "evaluate_model(cnn_model, test_loader)"
   ]
  },
  {
   "cell_type": "code",
   "execution_count": null,
   "metadata": {},
   "outputs": [],
   "source": [
    "print(\"RNN Model:\")\n",
    "evaluate_model(rnn_model, test_loader)"
   ]
  },
  {
   "cell_type": "code",
   "execution_count": null,
   "metadata": {},
   "outputs": [],
   "source": [
    "print(\"LSTM-CNN Hybrid Model:\")\n",
    "evaluate_model(lstm_cnn_model, test_loader)"
   ]
  }
 ],
 "metadata": {
  "kernelspec": {
   "display_name": ".venv",
   "language": "python",
   "name": "python3"
  },
  "language_info": {
   "codemirror_mode": {
    "name": "ipython",
    "version": 3
   },
   "file_extension": ".py",
   "mimetype": "text/x-python",
   "name": "python",
   "nbconvert_exporter": "python",
   "pygments_lexer": "ipython3",
   "version": "3.11.0"
  }
 },
 "nbformat": 4,
 "nbformat_minor": 2
}
