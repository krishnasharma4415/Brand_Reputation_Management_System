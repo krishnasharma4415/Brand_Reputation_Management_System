{
 "cells": [
  {
   "cell_type": "code",
   "execution_count": null,
   "metadata": {},
   "outputs": [],
   "source": [
    "import cudf\n",
    "import cuml\n",
    "import dask\n",
    "import dask.dataframe as dd\n",
    "from cuml.feature_extraction.text import TfidfVectorizer, CountVectorizer\n",
    "from cuml.naive_bayes import MultinomialNB\n",
    "from cuml.svm import SVC\n",
    "from sklearn.metrics import classification_report, accuracy_score, f1_score, roc_auc_score\n",
    "from sklearn.model_selection import train_test_split, GridSearchCV\n",
    "import pandas as pd\n",
    "import seaborn as sns\n",
    "import matplotlib.pyplot as plt"
   ]
  },
  {
   "cell_type": "code",
   "execution_count": null,
   "metadata": {},
   "outputs": [],
   "source": [
    "df = pd.read_csv(\"cleaned_dataset.csv\")\n",
    "df.head()"
   ]
  },
  {
   "cell_type": "code",
   "execution_count": null,
   "metadata": {},
   "outputs": [],
   "source": [
    "print(df['sentiment'].value_counts())\n",
    "dask_df = dd.from_pandas(df, npartitions=4)"
   ]
  },
  {
   "cell_type": "code",
   "execution_count": null,
   "metadata": {},
   "outputs": [],
   "source": [
    "X = dask_df['cleaned_review'].compute()\n",
    "y = dask_df['sentiment'].compute()\n",
    "\n",
    "X_train, X_test, y_train, y_test = train_test_split(X, y, test_size=0.2, random_state=42)\n",
    "X_train = cudf.Series(X_train)\n",
    "X_test = cudf.Series(X_test)\n",
    "y_train = cudf.Series(y_train)\n",
    "y_test = cudf.Series(y_test)"
   ]
  },
  {
   "cell_type": "code",
   "execution_count": null,
   "metadata": {},
   "outputs": [],
   "source": [
    "print(\"Bag of Words Model on GPU:\")\n",
    "bow_vectorizer = CountVectorizer()  # Using CuML's CountVectorizer\n",
    "X_train_bow = bow_vectorizer.fit_transform(X_train)\n",
    "X_test_bow = bow_vectorizer.transform(X_test)\n",
    "\n",
    "# Train and evaluate model on BoW features\n",
    "bow_model = MultinomialNB()\n",
    "bow_model.fit(X_train_bow, y_train)\n",
    "y_pred_bow = bow_model.predict(X_test_bow)\n",
    "\n",
    "# Convert GPU predictions to numpy arrays for compatibility with sklearn metrics\n",
    "y_pred_bow = y_pred_bow.to_array()\n",
    "y_test_np = y_test.to_array()\n",
    "\n",
    "print(\"BoW Classification Report:\")\n",
    "print(classification_report(y_test_np, y_pred_bow))\n",
    "print(\"BoW Accuracy:\", accuracy_score(y_test_np, y_pred_bow))"
   ]
  },
  {
   "cell_type": "code",
   "execution_count": null,
   "metadata": {},
   "outputs": [],
   "source": [
    "print(\"TF-IDF Model on GPU:\")\n",
    "tfidf_vectorizer = TfidfVectorizer()  # Using CuML's TF-IDF for GPU\n",
    "X_train_tfidf = tfidf_vectorizer.fit_transform(X_train)\n",
    "X_test_tfidf = tfidf_vectorizer.transform(X_test)\n",
    "\n",
    "# Train and evaluate model on TF-IDF features\n",
    "tfidf_model = MultinomialNB()\n",
    "tfidf_model.fit(X_train_tfidf, y_train)\n",
    "y_pred_tfidf = tfidf_model.predict(X_test_tfidf)\n",
    "\n",
    "# Convert GPU predictions to numpy for compatibility with sklearn metrics\n",
    "y_pred_tfidf = y_pred_tfidf.to_array()\n",
    "\n",
    "print(\"TF-IDF Classification Report:\")\n",
    "print(classification_report(y_test_np, y_pred_tfidf))\n",
    "print(\"TF-IDF Accuracy:\", accuracy_score(y_test_np, y_pred_tfidf))"
   ]
  },
  {
   "cell_type": "code",
   "execution_count": null,
   "metadata": {},
   "outputs": [],
   "source": [
    "performance = pd.DataFrame({\n",
    "    \"Model\": [\"BoW\", \"TF-IDF\"],\n",
    "    \"Accuracy\": [accuracy_score(y_test_np, y_pred_bow), accuracy_score(y_test_np, y_pred_tfidf)]\n",
    "})\n",
    "\n",
    "sns.barplot(x=\"Model\", y=\"Accuracy\", data=performance)\n",
    "plt.title(\"BoW vs TF-IDF Model Performance\")\n",
    "plt.show()"
   ]
  }
 ],
 "metadata": {
  "kernelspec": {
   "display_name": ".venv",
   "language": "python",
   "name": "python3"
  },
  "language_info": {
   "codemirror_mode": {
    "name": "ipython",
    "version": 3
   },
   "file_extension": ".py",
   "mimetype": "text/x-python",
   "name": "python",
   "nbconvert_exporter": "python",
   "pygments_lexer": "ipython3",
   "version": "3.11.0"
  }
 },
 "nbformat": 4,
 "nbformat_minor": 2
}
