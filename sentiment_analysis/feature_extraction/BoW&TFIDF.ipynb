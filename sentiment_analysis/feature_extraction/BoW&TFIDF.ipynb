{
 "cells": [
  {
   "cell_type": "code",
   "execution_count": null,
   "metadata": {},
   "outputs": [],
   "source": [
    "import pandas as pd\n",
    "import numpy as np\n",
    "from sklearn.feature_extraction.text import TfidfVectorizer, CountVectorizer\n",
    "from sklearn.naive_bayes import MultinomialNB\n",
    "from sklearn.svm import SVC\n",
    "from sklearn.metrics import classification_report, accuracy_score, f1_score, roc_auc_score\n",
    "from sklearn.model_selection import train_test_split, GridSearchCV\n",
    "import seaborn as sns \n",
    "import matplotlib.pyplot as plt\n",
    "import torch"
   ]
  },
  {
   "cell_type": "code",
   "execution_count": 2,
   "metadata": {},
   "outputs": [
    {
     "name": "stdout",
     "output_type": "stream",
     "text": [
      "Using device: cuda\n"
     ]
    }
   ],
   "source": [
    "device = torch.device('cuda' if torch.cuda.is_available() else 'cpu')\n",
    "print(f\"Using device: {device}\")"
   ]
  },
  {
   "cell_type": "code",
   "execution_count": 7,
   "metadata": {},
   "outputs": [
    {
     "name": "stdout",
     "output_type": "stream",
     "text": [
      "sentiment\n",
      "positive    307625\n",
      "negative     48822\n",
      "neutral      28070\n",
      "Name: count, dtype: int64\n"
     ]
    }
   ],
   "source": [
    "df = pd.read_csv(\"..\\data_preprocessing\\processed_dataset.csv\")\n",
    "df.head()\n",
    "print(df['sentiment'].value_counts())"
   ]
  },
  {
   "cell_type": "code",
   "execution_count": 14,
   "metadata": {},
   "outputs": [
    {
     "name": "stdout",
     "output_type": "stream",
     "text": [
      "Missing values in 'cleaned_review': 0\n",
      "Missing values in 'sentiment': 0\n"
     ]
    }
   ],
   "source": [
    "print(\"Missing values in 'cleaned_review':\", df['cleaned_review'].isnull().sum())\n",
    "print(\"Missing values in 'sentiment':\", df['sentiment'].isnull().sum())"
   ]
  },
  {
   "cell_type": "code",
   "execution_count": 15,
   "metadata": {},
   "outputs": [],
   "source": [
    "df = df.dropna(subset=['cleaned_review', 'sentiment'])"
   ]
  },
  {
   "cell_type": "code",
   "execution_count": 17,
   "metadata": {},
   "outputs": [],
   "source": [
    "X = df['cleaned_review']\n",
    "y = df['sentiment']\n",
    "X_train, X_test, y_train, y_test = train_test_split(X, y, test_size=0.2, random_state=42)"
   ]
  },
  {
   "cell_type": "code",
   "execution_count": 18,
   "metadata": {},
   "outputs": [
    {
     "name": "stdout",
     "output_type": "stream",
     "text": [
      "Bag of Words Model on CPU:\n",
      "BoW Classification Report:\n",
      "              precision    recall  f1-score   support\n",
      "\n",
      "    negative       0.65      0.63      0.64      9800\n",
      "     neutral       0.31      0.27      0.29      5690\n",
      "    positive       0.93      0.94      0.93     61376\n",
      "\n",
      "    accuracy                           0.85     76866\n",
      "   macro avg       0.63      0.62      0.62     76866\n",
      "weighted avg       0.85      0.85      0.85     76866\n",
      "\n",
      "BoW Accuracy: 0.8522493690318216\n"
     ]
    }
   ],
   "source": [
    "print(\"Bag of Words Model on CPU:\")\n",
    "bow_vectorizer = CountVectorizer()\n",
    "X_train_bow = bow_vectorizer.fit_transform(X_train)\n",
    "X_test_bow = bow_vectorizer.transform(X_test)\n",
    "\n",
    "# Train and evaluate model on BoW features\n",
    "bow_model = MultinomialNB()\n",
    "bow_model.fit(X_train_bow, y_train)\n",
    "y_pred_bow = bow_model.predict(X_test_bow)\n",
    "\n",
    "print(\"BoW Classification Report:\")\n",
    "print(classification_report(y_test, y_pred_bow))\n",
    "print(\"BoW Accuracy:\", accuracy_score(y_test, y_pred_bow))"
   ]
  },
  {
   "cell_type": "code",
   "execution_count": 19,
   "metadata": {},
   "outputs": [
    {
     "name": "stdout",
     "output_type": "stream",
     "text": [
      "TF-IDF Model on CPU:\n",
      "TF-IDF Classification Report:\n",
      "              precision    recall  f1-score   support\n",
      "\n",
      "    negative       0.83      0.34      0.48      9800\n",
      "     neutral       0.40      0.00      0.00      5690\n",
      "    positive       0.84      1.00      0.91     61376\n",
      "\n",
      "    accuracy                           0.84     76866\n",
      "   macro avg       0.69      0.44      0.46     76866\n",
      "weighted avg       0.81      0.84      0.79     76866\n",
      "\n",
      "TF-IDF Accuracy: 0.8387973876616449\n"
     ]
    }
   ],
   "source": [
    "print(\"TF-IDF Model on CPU:\")\n",
    "tfidf_vectorizer = TfidfVectorizer()\n",
    "X_train_tfidf = tfidf_vectorizer.fit_transform(X_train)\n",
    "X_test_tfidf = tfidf_vectorizer.transform(X_test)\n",
    "\n",
    "# Train and evaluate model on TF-IDF features\n",
    "tfidf_model = MultinomialNB()\n",
    "tfidf_model.fit(X_train_tfidf, y_train)\n",
    "y_pred_tfidf = tfidf_model.predict(X_test_tfidf)\n",
    "\n",
    "print(\"TF-IDF Classification Report:\")\n",
    "print(classification_report(y_test, y_pred_tfidf))\n",
    "print(\"TF-IDF Accuracy:\", accuracy_score(y_test, y_pred_tfidf))"
   ]
  },
  {
   "cell_type": "code",
   "execution_count": 20,
   "metadata": {},
   "outputs": [
    {
     "data": {
      "image/png": "[encoded data removed]",
      "text/plain": [
       "<Figure size 640x480 with 1 Axes>"
      ]
     },
     "metadata": {},
     "output_type": "display_data"
    }
   ],
   "source": [
    "performance = pd.DataFrame({\n",
    "    \"Model\": [\"BoW\", \"TF-IDF\"],\n",
    "    \"Accuracy\": [accuracy_score(y_test, y_pred_bow), accuracy_score(y_test, y_pred_tfidf)]\n",
    "})\n",
    "\n",
    "sns.barplot(x=\"Model\", y=\"Accuracy\", data=performance)\n",
    "plt.title(\"BoW vs TF-IDF Model Performance\")\n",
    "plt.show()"
   ]
  }
 ],
 "metadata": {
  "kernelspec": {
   "display_name": ".venv",
   "language": "python",
   "name": "python3"
  },
  "language_info": {
   "codemirror_mode": {
    "name": "ipython",
    "version": 3
   },
   "file_extension": ".py",
   "mimetype": "text/x-python",
   "name": "python",
   "nbconvert_exporter": "python",
   "pygments_lexer": "ipython3",
   "version": "3.11.0"
  }
 },
 "nbformat": 4,
 "nbformat_minor": 2
}
