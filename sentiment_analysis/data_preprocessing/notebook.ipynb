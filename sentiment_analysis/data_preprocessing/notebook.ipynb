{
 "cells": [
  {
   "cell_type": "code",
   "execution_count": null,
   "metadata": {},
   "outputs": [],
   "source": [
    "import pandas as pd\n",
    "import re\n",
    "import matplotlib.pyplot as plt\n",
    "from nltk.corpus import stopwords\n",
    "from nltk.tokenize import word_tokenize\n",
    "from nltk.stem import WordNetLemmatizer\n",
    "from textblob import TextBlob\n",
    "import contractions\n",
    "import emoji\n",
    "import seaborn as sns\n",
    "from collections import Counter\n",
    "import nltk\n",
    "import random"
   ]
  },
  {
   "cell_type": "code",
   "execution_count": 9,
   "metadata": {},
   "outputs": [
    {
     "name": "stderr",
     "output_type": "stream",
     "text": [
      "[nltk_data] Downloading package stopwords to\n",
      "[nltk_data]     C:\\Users\\krish\\AppData\\Roaming\\nltk_data...\n",
      "[nltk_data]   Package stopwords is already up-to-date!\n",
      "[nltk_data] Downloading package punkt to\n",
      "[nltk_data]     C:\\Users\\krish\\AppData\\Roaming\\nltk_data...\n",
      "[nltk_data]   Package punkt is already up-to-date!\n",
      "[nltk_data] Downloading package wordnet to\n",
      "[nltk_data]     C:\\Users\\krish\\AppData\\Roaming\\nltk_data...\n",
      "[nltk_data]   Package wordnet is already up-to-date!\n",
      "[nltk_data] Downloading package punkt_tab to\n",
      "[nltk_data]     C:\\Users\\krish\\AppData\\Roaming\\nltk_data...\n",
      "[nltk_data]   Package punkt_tab is already up-to-date!\n"
     ]
    },
    {
     "data": {
      "text/plain": [
       "True"
      ]
     },
     "execution_count": 9,
     "metadata": {},
     "output_type": "execute_result"
    }
   ],
   "source": [
    "nltk.download('stopwords')\n",
    "nltk.download('punkt')\n",
    "nltk.download('wordnet')\n",
    "nltk.download('punkt_tab')"
   ]
  },
  {
   "cell_type": "code",
   "execution_count": 20,
   "metadata": {},
   "outputs": [],
   "source": [
    "df1 = pd.read_csv('../data/adidas_usa.csv')\n",
    "df2 = pd.read_csv('../data/amazon_co-ecommerce_sample.csv')\n",
    "df3 = pd.read_csv('../data/data_amazon.xlsx - Sheet1.csv')\n",
    "df4 = pd.read_csv('../data/fashionnova_reviews.csv')\n",
    "df5 = pd.read_csv('../data/TeePublic_review.csv', encoding='latin-1')"
   ]
  },
  {
   "cell_type": "code",
   "execution_count": 21,
   "metadata": {},
   "outputs": [],
   "source": [
    "df5.rename(columns={'review-label': 'rating'}, inplace=True)\n",
    "df3.rename(columns={'Cons_rating': 'rating', 'Review': 'review'}, inplace=True)\n",
    "df4.rename(columns={'Rating': 'rating', 'Review Text': 'review'}, inplace=True)\n",
    "\n",
    "def extract_rating(text):\n",
    "    match = re.search(r'Rated (\\d+(\\.\\d+)?)', text)\n",
    "    if match:\n",
    "        return float(match.group(1))\n",
    "\n",
    "    try:\n",
    "        return pd.to_numeric(text, errors='coerce')\n",
    "    except ValueError:\n",
    "        return None\n",
    "\n",
    "extracted_ratings = df4['rating'].apply(extract_rating)\n",
    "df4.loc[:, 'rating'] = extracted_ratings\n",
    "\n",
    "def standardize(df):\n",
    "  df['rating'] = df['rating'].astype('float64')\n",
    "  return df\n",
    "\n",
    "df3 = standardize(df3.copy())\n",
    "df4 = standardize(df4.copy())\n",
    "df5 = standardize(df5.copy())"
   ]
  },
  {
   "cell_type": "code",
   "execution_count": 22,
   "metadata": {},
   "outputs": [
    {
     "data": {
      "text/html": [
       "<div>\n",
       "<style scoped>\n",
       "    .dataframe tbody tr th:only-of-type {\n",
       "        vertical-align: middle;\n",
       "    }\n",
       "\n",
       "    .dataframe tbody tr th {\n",
       "        vertical-align: top;\n",
       "    }\n",
       "\n",
       "    .dataframe thead th {\n",
       "        text-align: right;\n",
       "    }\n",
       "</style>\n",
       "<table border=\"1\" class=\"dataframe\">\n",
       "  <thead>\n",
       "    <tr style=\"text-align: right;\">\n",
       "      <th></th>\n",
       "      <th>index</th>\n",
       "      <th>url</th>\n",
       "      <th>name</th>\n",
       "      <th>sku</th>\n",
       "      <th>selling_price</th>\n",
       "      <th>original_price</th>\n",
       "      <th>currency</th>\n",
       "      <th>availability</th>\n",
       "      <th>color</th>\n",
       "      <th>category</th>\n",
       "      <th>...</th>\n",
       "      <th>source_website</th>\n",
       "      <th>breadcrumbs</th>\n",
       "      <th>description</th>\n",
       "      <th>brand</th>\n",
       "      <th>images</th>\n",
       "      <th>country</th>\n",
       "      <th>language</th>\n",
       "      <th>average_rating</th>\n",
       "      <th>reviews_count</th>\n",
       "      <th>crawled_at</th>\n",
       "    </tr>\n",
       "  </thead>\n",
       "  <tbody>\n",
       "    <tr>\n",
       "      <th>0</th>\n",
       "      <td>0</td>\n",
       "      <td>https://www.adidas.com/us/beach-shorts/FJ5089....</td>\n",
       "      <td>Beach Shorts</td>\n",
       "      <td>FJ5089</td>\n",
       "      <td>40</td>\n",
       "      <td>NaN</td>\n",
       "      <td>USD</td>\n",
       "      <td>InStock</td>\n",
       "      <td>Black</td>\n",
       "      <td>Clothing</td>\n",
       "      <td>...</td>\n",
       "      <td>https://www.adidas.com</td>\n",
       "      <td>Women/Clothing</td>\n",
       "      <td>Splashing in the surf. Making memories with yo...</td>\n",
       "      <td>adidas</td>\n",
       "      <td>https://assets.adidas.com/images/w_600,f_auto,...</td>\n",
       "      <td>USA</td>\n",
       "      <td>en</td>\n",
       "      <td>4.5</td>\n",
       "      <td>35</td>\n",
       "      <td>2021-10-23 17:50:17.331255</td>\n",
       "    </tr>\n",
       "  </tbody>\n",
       "</table>\n",
       "<p>1 rows × 21 columns</p>\n",
       "</div>"
      ],
      "text/plain": [
       "   index                                                url          name  \\\n",
       "0      0  https://www.adidas.com/us/beach-shorts/FJ5089....  Beach Shorts   \n",
       "\n",
       "      sku  selling_price original_price currency availability  color  \\\n",
       "0  FJ5089             40            NaN      USD      InStock  Black   \n",
       "\n",
       "   category  ...          source_website     breadcrumbs  \\\n",
       "0  Clothing  ...  https://www.adidas.com  Women/Clothing   \n",
       "\n",
       "                                         description   brand  \\\n",
       "0  Splashing in the surf. Making memories with yo...  adidas   \n",
       "\n",
       "                                              images country language  \\\n",
       "0  https://assets.adidas.com/images/w_600,f_auto,...     USA       en   \n",
       "\n",
       "  average_rating  reviews_count                  crawled_at  \n",
       "0            4.5             35  2021-10-23 17:50:17.331255  \n",
       "\n",
       "[1 rows x 21 columns]"
      ]
     },
     "execution_count": 22,
     "metadata": {},
     "output_type": "execute_result"
    }
   ],
   "source": [
    "df1.head(1)"
   ]
  },
  {
   "cell_type": "code",
   "execution_count": 23,
   "metadata": {},
   "outputs": [
    {
     "data": {
      "text/html": [
       "<div>\n",
       "<style scoped>\n",
       "    .dataframe tbody tr th:only-of-type {\n",
       "        vertical-align: middle;\n",
       "    }\n",
       "\n",
       "    .dataframe tbody tr th {\n",
       "        vertical-align: top;\n",
       "    }\n",
       "\n",
       "    .dataframe thead th {\n",
       "        text-align: right;\n",
       "    }\n",
       "</style>\n",
       "<table border=\"1\" class=\"dataframe\">\n",
       "  <thead>\n",
       "    <tr style=\"text-align: right;\">\n",
       "      <th></th>\n",
       "      <th>index</th>\n",
       "      <th>uniq_id</th>\n",
       "      <th>product_name</th>\n",
       "      <th>manufacturer</th>\n",
       "      <th>price</th>\n",
       "      <th>number_available_in_stock</th>\n",
       "      <th>number_of_reviews</th>\n",
       "      <th>number_of_answered_questions</th>\n",
       "      <th>average_review_rating</th>\n",
       "      <th>amazon_category_and_sub_category</th>\n",
       "      <th>customers_who_bought_this_item_also_bought</th>\n",
       "      <th>description</th>\n",
       "      <th>product_information</th>\n",
       "      <th>product_description</th>\n",
       "      <th>items_customers_buy_after_viewing_this_item</th>\n",
       "      <th>customer_questions_and_answers</th>\n",
       "      <th>customer_reviews</th>\n",
       "      <th>sellers</th>\n",
       "    </tr>\n",
       "  </thead>\n",
       "  <tbody>\n",
       "    <tr>\n",
       "      <th>0</th>\n",
       "      <td>0</td>\n",
       "      <td>eac7efa5dbd3d667f26eb3d3ab504464</td>\n",
       "      <td>Hornby 2014 Catalogue</td>\n",
       "      <td>Hornby</td>\n",
       "      <td>£3.42</td>\n",
       "      <td>5 new</td>\n",
       "      <td>15</td>\n",
       "      <td>1.0</td>\n",
       "      <td>4.9 out of 5 stars</td>\n",
       "      <td>Hobbies &gt; Model Trains &amp; Railway Sets &gt; Rail V...</td>\n",
       "      <td>http://www.amazon.co.uk/Hornby-R8150-Catalogue...</td>\n",
       "      <td>Product Description Hornby 2014 Catalogue Box ...</td>\n",
       "      <td>Technical Details Item Weight640 g Product Dim...</td>\n",
       "      <td>Product Description Hornby 2014 Catalogue Box ...</td>\n",
       "      <td>http://www.amazon.co.uk/Hornby-R8150-Catalogue...</td>\n",
       "      <td>Does this catalogue detail all the previous Ho...</td>\n",
       "      <td>Worth Buying For The Pictures Alone (As Ever) ...</td>\n",
       "      <td>{\"seller\"=&gt;[{\"Seller_name_1\"=&gt;\"Amazon.co.uk\", ...</td>\n",
       "    </tr>\n",
       "  </tbody>\n",
       "</table>\n",
       "</div>"
      ],
      "text/plain": [
       "   index                           uniq_id           product_name  \\\n",
       "0      0  eac7efa5dbd3d667f26eb3d3ab504464  Hornby 2014 Catalogue   \n",
       "\n",
       "  manufacturer  price number_available_in_stock number_of_reviews  \\\n",
       "0       Hornby  £3.42                     5 new                15   \n",
       "\n",
       "   number_of_answered_questions average_review_rating  \\\n",
       "0                           1.0    4.9 out of 5 stars   \n",
       "\n",
       "                    amazon_category_and_sub_category  \\\n",
       "0  Hobbies > Model Trains & Railway Sets > Rail V...   \n",
       "\n",
       "          customers_who_bought_this_item_also_bought  \\\n",
       "0  http://www.amazon.co.uk/Hornby-R8150-Catalogue...   \n",
       "\n",
       "                                         description  \\\n",
       "0  Product Description Hornby 2014 Catalogue Box ...   \n",
       "\n",
       "                                 product_information  \\\n",
       "0  Technical Details Item Weight640 g Product Dim...   \n",
       "\n",
       "                                 product_description  \\\n",
       "0  Product Description Hornby 2014 Catalogue Box ...   \n",
       "\n",
       "         items_customers_buy_after_viewing_this_item  \\\n",
       "0  http://www.amazon.co.uk/Hornby-R8150-Catalogue...   \n",
       "\n",
       "                      customer_questions_and_answers  \\\n",
       "0  Does this catalogue detail all the previous Ho...   \n",
       "\n",
       "                                    customer_reviews  \\\n",
       "0  Worth Buying For The Pictures Alone (As Ever) ...   \n",
       "\n",
       "                                             sellers  \n",
       "0  {\"seller\"=>[{\"Seller_name_1\"=>\"Amazon.co.uk\", ...  "
      ]
     },
     "execution_count": 23,
     "metadata": {},
     "output_type": "execute_result"
    }
   ],
   "source": [
    "df2.head(1)"
   ]
  },
  {
   "cell_type": "code",
   "execution_count": 24,
   "metadata": {},
   "outputs": [
    {
     "data": {
      "text/html": [
       "<div>\n",
       "<style scoped>\n",
       "    .dataframe tbody tr th:only-of-type {\n",
       "        vertical-align: middle;\n",
       "    }\n",
       "\n",
       "    .dataframe tbody tr th {\n",
       "        vertical-align: top;\n",
       "    }\n",
       "\n",
       "    .dataframe thead th {\n",
       "        text-align: right;\n",
       "    }\n",
       "</style>\n",
       "<table border=\"1\" class=\"dataframe\">\n",
       "  <thead>\n",
       "    <tr style=\"text-align: right;\">\n",
       "      <th></th>\n",
       "      <th>Title</th>\n",
       "      <th>review</th>\n",
       "      <th>rating</th>\n",
       "      <th>Cloth_class</th>\n",
       "      <th>Materials</th>\n",
       "      <th>Construction</th>\n",
       "      <th>Color</th>\n",
       "      <th>Finishing</th>\n",
       "      <th>Durability</th>\n",
       "    </tr>\n",
       "  </thead>\n",
       "  <tbody>\n",
       "    <tr>\n",
       "      <th>0</th>\n",
       "      <td>NaN</td>\n",
       "      <td>Absolutely wonderful - silky and sexy and comf...</td>\n",
       "      <td>4.0</td>\n",
       "      <td>Intimates</td>\n",
       "      <td>0.0</td>\n",
       "      <td>0.0</td>\n",
       "      <td>0.0</td>\n",
       "      <td>1.0</td>\n",
       "      <td>0.0</td>\n",
       "    </tr>\n",
       "  </tbody>\n",
       "</table>\n",
       "</div>"
      ],
      "text/plain": [
       "  Title                                             review  rating  \\\n",
       "0   NaN  Absolutely wonderful - silky and sexy and comf...     4.0   \n",
       "\n",
       "  Cloth_class  Materials  Construction  Color  Finishing  Durability  \n",
       "0   Intimates        0.0           0.0    0.0        1.0         0.0  "
      ]
     },
     "execution_count": 24,
     "metadata": {},
     "output_type": "execute_result"
    }
   ],
   "source": [
    "df3.head(1)"
   ]
  },
  {
   "cell_type": "code",
   "execution_count": 25,
   "metadata": {},
   "outputs": [
    {
     "data": {
      "text/html": [
       "<div>\n",
       "<style scoped>\n",
       "    .dataframe tbody tr th:only-of-type {\n",
       "        vertical-align: middle;\n",
       "    }\n",
       "\n",
       "    .dataframe tbody tr th {\n",
       "        vertical-align: top;\n",
       "    }\n",
       "\n",
       "    .dataframe thead th {\n",
       "        text-align: right;\n",
       "    }\n",
       "</style>\n",
       "<table border=\"1\" class=\"dataframe\">\n",
       "  <thead>\n",
       "    <tr style=\"text-align: right;\">\n",
       "      <th></th>\n",
       "      <th>Reviewer Name</th>\n",
       "      <th>Profile Link</th>\n",
       "      <th>Country</th>\n",
       "      <th>Review Count</th>\n",
       "      <th>Review Date</th>\n",
       "      <th>rating</th>\n",
       "      <th>Review Title</th>\n",
       "      <th>review</th>\n",
       "      <th>Date of Experience</th>\n",
       "    </tr>\n",
       "  </thead>\n",
       "  <tbody>\n",
       "    <tr>\n",
       "      <th>0</th>\n",
       "      <td>Champagne</td>\n",
       "      <td>/users/66c78240087b6269ffbcb5fb</td>\n",
       "      <td>US</td>\n",
       "      <td>1 review</td>\n",
       "      <td>2024-08-22T20:24:02.000Z</td>\n",
       "      <td>5.0</td>\n",
       "      <td>I love ordering from fashion nova</td>\n",
       "      <td>I love ordering from fashion nova. The clothes...</td>\n",
       "      <td>August 22, 2024</td>\n",
       "    </tr>\n",
       "  </tbody>\n",
       "</table>\n",
       "</div>"
      ],
      "text/plain": [
       "  Reviewer Name                     Profile Link Country Review Count  \\\n",
       "0     Champagne  /users/66c78240087b6269ffbcb5fb      US     1 review   \n",
       "\n",
       "                Review Date  rating                       Review Title  \\\n",
       "0  2024-08-22T20:24:02.000Z     5.0  I love ordering from fashion nova   \n",
       "\n",
       "                                              review Date of Experience  \n",
       "0  I love ordering from fashion nova. The clothes...    August 22, 2024  "
      ]
     },
     "execution_count": 25,
     "metadata": {},
     "output_type": "execute_result"
    }
   ],
   "source": [
    "df4.head(1)"
   ]
  },
  {
   "cell_type": "code",
   "execution_count": 26,
   "metadata": {},
   "outputs": [
    {
     "data": {
      "text/html": [
       "<div>\n",
       "<style scoped>\n",
       "    .dataframe tbody tr th:only-of-type {\n",
       "        vertical-align: middle;\n",
       "    }\n",
       "\n",
       "    .dataframe tbody tr th {\n",
       "        vertical-align: top;\n",
       "    }\n",
       "\n",
       "    .dataframe thead th {\n",
       "        text-align: right;\n",
       "    }\n",
       "</style>\n",
       "<table border=\"1\" class=\"dataframe\">\n",
       "  <thead>\n",
       "    <tr style=\"text-align: right;\">\n",
       "      <th></th>\n",
       "      <th>reviewer_id</th>\n",
       "      <th>store_location</th>\n",
       "      <th>latitude</th>\n",
       "      <th>longitude</th>\n",
       "      <th>date</th>\n",
       "      <th>month</th>\n",
       "      <th>year</th>\n",
       "      <th>title</th>\n",
       "      <th>review</th>\n",
       "      <th>rating</th>\n",
       "    </tr>\n",
       "  </thead>\n",
       "  <tbody>\n",
       "    <tr>\n",
       "      <th>0</th>\n",
       "      <td>0.0</td>\n",
       "      <td>US</td>\n",
       "      <td>37.09024</td>\n",
       "      <td>-95.712891</td>\n",
       "      <td>2023</td>\n",
       "      <td>6</td>\n",
       "      <td>2015 00:00:00</td>\n",
       "      <td>Great help with lost order</td>\n",
       "      <td>I had an order that was lost in transit. When ...</td>\n",
       "      <td>5.0</td>\n",
       "    </tr>\n",
       "  </tbody>\n",
       "</table>\n",
       "</div>"
      ],
      "text/plain": [
       "   reviewer_id store_location  latitude  longitude  date  month  \\\n",
       "0          0.0             US  37.09024 -95.712891  2023      6   \n",
       "\n",
       "            year                       title  \\\n",
       "0  2015 00:00:00  Great help with lost order   \n",
       "\n",
       "                                              review  rating  \n",
       "0  I had an order that was lost in transit. When ...     5.0  "
      ]
     },
     "execution_count": 26,
     "metadata": {},
     "output_type": "execute_result"
    }
   ],
   "source": [
    "df5.head(1)"
   ]
  },
  {
   "cell_type": "code",
   "execution_count": 27,
   "metadata": {},
   "outputs": [
    {
     "name": "stdout",
     "output_type": "stream",
     "text": [
      "<class 'pandas.core.frame.DataFrame'>\n",
      "RangeIndex: 845 entries, 0 to 844\n",
      "Data columns (total 21 columns):\n",
      " #   Column          Non-Null Count  Dtype  \n",
      "---  ------          --------------  -----  \n",
      " 0   index           845 non-null    int64  \n",
      " 1   url             845 non-null    object \n",
      " 2   name            845 non-null    object \n",
      " 3   sku             845 non-null    object \n",
      " 4   selling_price   845 non-null    int64  \n",
      " 5   original_price  829 non-null    object \n",
      " 6   currency        845 non-null    object \n",
      " 7   availability    845 non-null    object \n",
      " 8   color           845 non-null    object \n",
      " 9   category        845 non-null    object \n",
      " 10  source          845 non-null    object \n",
      " 11  source_website  845 non-null    object \n",
      " 12  breadcrumbs     845 non-null    object \n",
      " 13  description     845 non-null    object \n",
      " 14  brand           845 non-null    object \n",
      " 15  images          845 non-null    object \n",
      " 16  country         845 non-null    object \n",
      " 17  language        845 non-null    object \n",
      " 18  average_rating  845 non-null    float64\n",
      " 19  reviews_count   845 non-null    int64  \n",
      " 20  crawled_at      845 non-null    object \n",
      "dtypes: float64(1), int64(3), object(17)\n",
      "memory usage: 138.8+ KB\n",
      "None\n",
      "-------------------------------------------------------------\n",
      "<class 'pandas.core.frame.DataFrame'>\n",
      "RangeIndex: 10000 entries, 0 to 9999\n",
      "Data columns (total 18 columns):\n",
      " #   Column                                       Non-Null Count  Dtype  \n",
      "---  ------                                       --------------  -----  \n",
      " 0   index                                        10000 non-null  int64  \n",
      " 1   uniq_id                                      10000 non-null  object \n",
      " 2   product_name                                 10000 non-null  object \n",
      " 3   manufacturer                                 9993 non-null   object \n",
      " 4   price                                        8565 non-null   object \n",
      " 5   number_available_in_stock                    7500 non-null   object \n",
      " 6   number_of_reviews                            9982 non-null   object \n",
      " 7   number_of_answered_questions                 9235 non-null   float64\n",
      " 8   average_review_rating                        9982 non-null   object \n",
      " 9   amazon_category_and_sub_category             9310 non-null   object \n",
      " 10  customers_who_bought_this_item_also_bought   8938 non-null   object \n",
      " 11  description                                  9349 non-null   object \n",
      " 12  product_information                          9942 non-null   object \n",
      " 13  product_description                          9349 non-null   object \n",
      " 14  items_customers_buy_after_viewing_this_item  6935 non-null   object \n",
      " 15  customer_questions_and_answers               914 non-null    object \n",
      " 16  customer_reviews                             9979 non-null   object \n",
      " 17  sellers                                      6918 non-null   object \n",
      "dtypes: float64(1), int64(1), object(16)\n",
      "memory usage: 1.4+ MB\n",
      "None\n",
      "-------------------------------------------------------------\n",
      "<class 'pandas.core.frame.DataFrame'>\n",
      "RangeIndex: 49338 entries, 0 to 49337\n",
      "Data columns (total 9 columns):\n",
      " #   Column        Non-Null Count  Dtype  \n",
      "---  ------        --------------  -----  \n",
      " 0   Title         45370 non-null  object \n",
      " 1   review        48507 non-null  object \n",
      " 2   rating        49124 non-null  float64\n",
      " 3   Cloth_class   49322 non-null  object \n",
      " 4   Materials     5741 non-null   float64\n",
      " 5   Construction  5743 non-null   float64\n",
      " 6   Color         5742 non-null   float64\n",
      " 7   Finishing     5737 non-null   float64\n",
      " 8   Durability    5734 non-null   float64\n",
      "dtypes: float64(6), object(3)\n",
      "memory usage: 3.4+ MB\n",
      "None\n",
      "-------------------------------------------------------------\n",
      "<class 'pandas.core.frame.DataFrame'>\n",
      "RangeIndex: 131980 entries, 0 to 131979\n",
      "Data columns (total 9 columns):\n",
      " #   Column              Non-Null Count   Dtype  \n",
      "---  ------              --------------   -----  \n",
      " 0   Reviewer Name       131917 non-null  object \n",
      " 1   Profile Link        131980 non-null  object \n",
      " 2   Country             131976 non-null  object \n",
      " 3   Review Count        131980 non-null  object \n",
      " 4   Review Date         131980 non-null  object \n",
      " 5   rating              131980 non-null  float64\n",
      " 6   Review Title        131932 non-null  object \n",
      " 7   review              131980 non-null  object \n",
      " 8   Date of Experience  131980 non-null  object \n",
      "dtypes: float64(1), object(8)\n",
      "memory usage: 9.1+ MB\n",
      "None\n",
      "-------------------------------------------------------------\n",
      "<class 'pandas.core.frame.DataFrame'>\n",
      "RangeIndex: 278100 entries, 0 to 278099\n",
      "Data columns (total 10 columns):\n",
      " #   Column          Non-Null Count   Dtype  \n",
      "---  ------          --------------   -----  \n",
      " 0   reviewer_id     278099 non-null  float64\n",
      " 1   store_location  278100 non-null  object \n",
      " 2   latitude        278100 non-null  float64\n",
      " 3   longitude       278100 non-null  float64\n",
      " 4   date            278100 non-null  int64  \n",
      " 5   month           278100 non-null  int64  \n",
      " 6   year            278100 non-null  object \n",
      " 7   title           278088 non-null  object \n",
      " 8   review          247597 non-null  object \n",
      " 9   rating          278100 non-null  float64\n",
      "dtypes: float64(4), int64(2), object(4)\n",
      "memory usage: 21.2+ MB\n",
      "None\n",
      "-------------------------------------------------------------\n"
     ]
    }
   ],
   "source": [
    "print(df1.info())\n",
    "print('-------------------------------------------------------------')\n",
    "print(df2.info())\n",
    "print('-------------------------------------------------------------')\n",
    "print(df3.info())\n",
    "print('-------------------------------------------------------------')\n",
    "print(df4.info())\n",
    "print('-------------------------------------------------------------')\n",
    "print(df5.info())\n",
    "print('-------------------------------------------------------------')"
   ]
  },
  {
   "cell_type": "code",
   "execution_count": 33,
   "metadata": {},
   "outputs": [
    {
     "name": "stdout",
     "output_type": "stream",
     "text": [
      "<class 'pandas.core.frame.DataFrame'>\n",
      "Index: 427872 entries, 0 to 459417\n",
      "Data columns (total 2 columns):\n",
      " #   Column  Non-Null Count   Dtype  \n",
      "---  ------  --------------   -----  \n",
      " 0   review  427872 non-null  object \n",
      " 1   rating  427872 non-null  float64\n",
      "dtypes: float64(1), object(1)\n",
      "memory usage: 9.8+ MB\n"
     ]
    }
   ],
   "source": [
    "merged_df = pd.concat([df3[['review', 'rating']], df4[['review', 'rating']], df5[['review', 'rating']]], ignore_index=True)\n",
    "merged_df = merged_df.dropna()\n",
    "df = merged_df\n",
    "df.info()"
   ]
  },
  {
   "cell_type": "code",
   "execution_count": 15,
   "metadata": {},
   "outputs": [],
   "source": [
    "df = pd.read_csv('dataset.csv')"
   ]
  },
  {
   "cell_type": "code",
   "execution_count": 16,
   "metadata": {},
   "outputs": [],
   "source": [
    "df.drop_duplicates(subset=['review'], keep='first', inplace=True)\n",
    "df.dropna(subset=['review', 'rating'], inplace=True)"
   ]
  },
  {
   "cell_type": "code",
   "execution_count": 17,
   "metadata": {},
   "outputs": [],
   "source": [
    "stop_words = set(stopwords.words('english'))\n",
    "lemmatizer = WordNetLemmatizer()"
   ]
  },
  {
   "cell_type": "code",
   "execution_count": 18,
   "metadata": {},
   "outputs": [],
   "source": [
    "def clean(text):\n",
    "    text = contractions.fix(text)\n",
    "    text = re.sub(r'http\\S+|www\\S+|https\\S+', '', text, flags=re.MULTILINE)\n",
    "    text = emoji.replace_emoji(text, replace='')\n",
    "    text = re.sub(r\"[^a-zA-Z\\s]\", \"\", text)    \n",
    "    text = text.lower()\n",
    "    text = str(TextBlob(text).correct())\n",
    "    words = word_tokenize(text)\n",
    "    words = [word for word in words if word not in stop_words]\n",
    "    words = [lemmatizer.lemmatize(word) for word in words]\n",
    "    cleaned_text = \" \".join(words)\n",
    "    \n",
    "    return cleaned_text"
   ]
  },
  {
   "cell_type": "code",
   "execution_count": null,
   "metadata": {},
   "outputs": [
    {
     "name": "stderr",
     "output_type": "stream",
     "text": [
      "Pandas Apply: 100%|██████████| 384517/384517 [11:48:13<00:00,  9.05it/s]   \n"
     ]
    }
   ],
   "source": [
    "df['cleaned_review'] = df['review'].apply(clean)"
   ]
  },
  {
   "cell_type": "code",
   "execution_count": 20,
   "metadata": {},
   "outputs": [
    {
     "data": {
      "text/html": [
       "<div>\n",
       "<style scoped>\n",
       "    .dataframe tbody tr th:only-of-type {\n",
       "        vertical-align: middle;\n",
       "    }\n",
       "\n",
       "    .dataframe tbody tr th {\n",
       "        vertical-align: top;\n",
       "    }\n",
       "\n",
       "    .dataframe thead th {\n",
       "        text-align: right;\n",
       "    }\n",
       "</style>\n",
       "<table border=\"1\" class=\"dataframe\">\n",
       "  <thead>\n",
       "    <tr style=\"text-align: right;\">\n",
       "      <th></th>\n",
       "      <th>review</th>\n",
       "      <th>cleaned_review</th>\n",
       "      <th>rating</th>\n",
       "    </tr>\n",
       "  </thead>\n",
       "  <tbody>\n",
       "    <tr>\n",
       "      <th>0</th>\n",
       "      <td>Absolutely wonderful - silky and sexy and comf...</td>\n",
       "      <td>absolutely wonderful silk sex comfortable</td>\n",
       "      <td>4.0</td>\n",
       "    </tr>\n",
       "    <tr>\n",
       "      <th>1</th>\n",
       "      <td>Love this dress!  it's sooo pretty.  i happene...</td>\n",
       "      <td>love dress soon pretty happened find store gla...</td>\n",
       "      <td>5.0</td>\n",
       "    </tr>\n",
       "    <tr>\n",
       "      <th>2</th>\n",
       "      <td>I had such high hopes for this dress and reall...</td>\n",
       "      <td>high hope dress really wanted work initially o...</td>\n",
       "      <td>3.0</td>\n",
       "    </tr>\n",
       "    <tr>\n",
       "      <th>3</th>\n",
       "      <td>I love, love, love this jumpsuit. it's fun, fl...</td>\n",
       "      <td>love love love jumpsuit fun flirt fabulous eve...</td>\n",
       "      <td>5.0</td>\n",
       "    </tr>\n",
       "    <tr>\n",
       "      <th>4</th>\n",
       "      <td>This shirt is very flattering to all due to th...</td>\n",
       "      <td>shirt flattering due adjustable front tie perf...</td>\n",
       "      <td>5.0</td>\n",
       "    </tr>\n",
       "  </tbody>\n",
       "</table>\n",
       "</div>"
      ],
      "text/plain": [
       "                                              review  \\\n",
       "0  Absolutely wonderful - silky and sexy and comf...   \n",
       "1  Love this dress!  it's sooo pretty.  i happene...   \n",
       "2  I had such high hopes for this dress and reall...   \n",
       "3  I love, love, love this jumpsuit. it's fun, fl...   \n",
       "4  This shirt is very flattering to all due to th...   \n",
       "\n",
       "                                      cleaned_review  rating  \n",
       "0          absolutely wonderful silk sex comfortable     4.0  \n",
       "1  love dress soon pretty happened find store gla...     5.0  \n",
       "2  high hope dress really wanted work initially o...     3.0  \n",
       "3  love love love jumpsuit fun flirt fabulous eve...     5.0  \n",
       "4  shirt flattering due adjustable front tie perf...     5.0  "
      ]
     },
     "execution_count": 20,
     "metadata": {},
     "output_type": "execute_result"
    }
   ],
   "source": [
    "df[['review', 'cleaned_review', 'rating']].head()"
   ]
  },
  {
   "cell_type": "code",
   "execution_count": 2,
   "metadata": {},
   "outputs": [],
   "source": [
    "# df.to_csv('cleaned_dataset.csv', index=False)\n",
    "df = pd.read_csv('cleaned_dataset.csv')"
   ]
  },
  {
   "cell_type": "code",
   "execution_count": null,
   "metadata": {},
   "outputs": [],
   "source": [
    "def get_review_length(review):\n",
    "  if isinstance(review, str):\n",
    "    return len(review.split())\n",
    "  else:\n",
    "    return 0\n",
    "\n",
    "df['review_length'] = df['cleaned_review'].apply(get_review_length)"
   ]
  },
  {
   "cell_type": "code",
   "execution_count": 11,
   "metadata": {},
   "outputs": [],
   "source": [
    "def label_sentiment(rating):\n",
    "    if rating >= 4:\n",
    "        return 'positive'\n",
    "    elif rating == 3:\n",
    "        return 'neutral'\n",
    "    else:\n",
    "        return 'negative'\n",
    "\n",
    "df['sentiment'] = df['rating'].apply(label_sentiment)"
   ]
  },
  {
   "cell_type": "code",
   "execution_count": 14,
   "metadata": {},
   "outputs": [
    {
     "data": {
      "text/html": [
       "<div>\n",
       "<style scoped>\n",
       "    .dataframe tbody tr th:only-of-type {\n",
       "        vertical-align: middle;\n",
       "    }\n",
       "\n",
       "    .dataframe tbody tr th {\n",
       "        vertical-align: top;\n",
       "    }\n",
       "\n",
       "    .dataframe thead th {\n",
       "        text-align: right;\n",
       "    }\n",
       "</style>\n",
       "<table border=\"1\" class=\"dataframe\">\n",
       "  <thead>\n",
       "    <tr style=\"text-align: right;\">\n",
       "      <th></th>\n",
       "      <th>review</th>\n",
       "      <th>rating</th>\n",
       "      <th>cleaned_review</th>\n",
       "      <th>review_length</th>\n",
       "      <th>sentiment</th>\n",
       "    </tr>\n",
       "  </thead>\n",
       "  <tbody>\n",
       "    <tr>\n",
       "      <th>0</th>\n",
       "      <td>Absolutely wonderful - silky and sexy and comf...</td>\n",
       "      <td>4.0</td>\n",
       "      <td>absolutely wonderful silk sex comfortable</td>\n",
       "      <td>5</td>\n",
       "      <td>positive</td>\n",
       "    </tr>\n",
       "    <tr>\n",
       "      <th>1</th>\n",
       "      <td>Love this dress!  it's sooo pretty.  i happene...</td>\n",
       "      <td>5.0</td>\n",
       "      <td>love dress soon pretty happened find store gla...</td>\n",
       "      <td>27</td>\n",
       "      <td>positive</td>\n",
       "    </tr>\n",
       "    <tr>\n",
       "      <th>2</th>\n",
       "      <td>I had such high hopes for this dress and reall...</td>\n",
       "      <td>3.0</td>\n",
       "      <td>high hope dress really wanted work initially o...</td>\n",
       "      <td>48</td>\n",
       "      <td>neutral</td>\n",
       "    </tr>\n",
       "    <tr>\n",
       "      <th>3</th>\n",
       "      <td>I love, love, love this jumpsuit. it's fun, fl...</td>\n",
       "      <td>5.0</td>\n",
       "      <td>love love love jumpsuit fun flirt fabulous eve...</td>\n",
       "      <td>14</td>\n",
       "      <td>positive</td>\n",
       "    </tr>\n",
       "    <tr>\n",
       "      <th>4</th>\n",
       "      <td>This shirt is very flattering to all due to th...</td>\n",
       "      <td>5.0</td>\n",
       "      <td>shirt flattering due adjustable front tie perf...</td>\n",
       "      <td>16</td>\n",
       "      <td>positive</td>\n",
       "    </tr>\n",
       "    <tr>\n",
       "      <th>5</th>\n",
       "      <td>I love tracy reese dresses, but this one is no...</td>\n",
       "      <td>2.0</td>\n",
       "      <td>love trace goose dress one petite foot tall us...</td>\n",
       "      <td>40</td>\n",
       "      <td>negative</td>\n",
       "    </tr>\n",
       "    <tr>\n",
       "      <th>6</th>\n",
       "      <td>I aded this in my basket at hte last mintue to...</td>\n",
       "      <td>5.0</td>\n",
       "      <td>added basket last minute see would look like p...</td>\n",
       "      <td>41</td>\n",
       "      <td>positive</td>\n",
       "    </tr>\n",
       "    <tr>\n",
       "      <th>7</th>\n",
       "      <td>I ordered this in carbon for store pick up, an...</td>\n",
       "      <td>4.0</td>\n",
       "      <td>ordered carbon store pick ton stuff always try...</td>\n",
       "      <td>48</td>\n",
       "      <td>positive</td>\n",
       "    </tr>\n",
       "    <tr>\n",
       "      <th>8</th>\n",
       "      <td>I love this dress. i usually get an xs but it ...</td>\n",
       "      <td>5.0</td>\n",
       "      <td>love dress usually get run little snug bust or...</td>\n",
       "      <td>16</td>\n",
       "      <td>positive</td>\n",
       "    </tr>\n",
       "    <tr>\n",
       "      <th>9</th>\n",
       "      <td>I'm 5\"5' and 125 lbs. i ordered the s petite t...</td>\n",
       "      <td>5.0</td>\n",
       "      <td>le ordered petite make sure length long typica...</td>\n",
       "      <td>32</td>\n",
       "      <td>positive</td>\n",
       "    </tr>\n",
       "  </tbody>\n",
       "</table>\n",
       "</div>"
      ],
      "text/plain": [
       "                                              review  rating  \\\n",
       "0  Absolutely wonderful - silky and sexy and comf...     4.0   \n",
       "1  Love this dress!  it's sooo pretty.  i happene...     5.0   \n",
       "2  I had such high hopes for this dress and reall...     3.0   \n",
       "3  I love, love, love this jumpsuit. it's fun, fl...     5.0   \n",
       "4  This shirt is very flattering to all due to th...     5.0   \n",
       "5  I love tracy reese dresses, but this one is no...     2.0   \n",
       "6  I aded this in my basket at hte last mintue to...     5.0   \n",
       "7  I ordered this in carbon for store pick up, an...     4.0   \n",
       "8  I love this dress. i usually get an xs but it ...     5.0   \n",
       "9  I'm 5\"5' and 125 lbs. i ordered the s petite t...     5.0   \n",
       "\n",
       "                                      cleaned_review  review_length sentiment  \n",
       "0          absolutely wonderful silk sex comfortable              5  positive  \n",
       "1  love dress soon pretty happened find store gla...             27  positive  \n",
       "2  high hope dress really wanted work initially o...             48   neutral  \n",
       "3  love love love jumpsuit fun flirt fabulous eve...             14  positive  \n",
       "4  shirt flattering due adjustable front tie perf...             16  positive  \n",
       "5  love trace goose dress one petite foot tall us...             40  negative  \n",
       "6  added basket last minute see would look like p...             41  positive  \n",
       "7  ordered carbon store pick ton stuff always try...             48  positive  \n",
       "8  love dress usually get run little snug bust or...             16  positive  \n",
       "9  le ordered petite make sure length long typica...             32  positive  "
      ]
     },
     "execution_count": 14,
     "metadata": {},
     "output_type": "execute_result"
    }
   ],
   "source": [
    "df.head(10)"
   ]
  },
  {
   "cell_type": "code",
   "execution_count": 24,
   "metadata": {},
   "outputs": [
    {
     "data": {
      "image/png": "[encoded data removed]",
      "text/plain": [
       "<Figure size 1000x600 with 1 Axes>"
      ]
     },
     "metadata": {},
     "output_type": "display_data"
    }
   ],
   "source": [
    "plt.figure(figsize=(10, 6))\n",
    "sns.countplot(x='sentiment', data=df, palette='viridis')\n",
    "plt.title(\"Distribution of Sentiment Categories\")\n",
    "plt.xlabel(\"Sentiment\")\n",
    "plt.ylabel(\"Count\")\n",
    "plt.show()"
   ]
  },
  {
   "cell_type": "code",
   "execution_count": 25,
   "metadata": {},
   "outputs": [
    {
     "data": {
      "image/png": "[encoded data removed]",
      "text/plain": [
       "<Figure size 1000x600 with 1 Axes>"
      ]
     },
     "metadata": {},
     "output_type": "display_data"
    }
   ],
   "source": [
    "plt.figure(figsize=(10, 6))\n",
    "sns.countplot(x='rating', data=df)\n",
    "plt.title(\"Distribution of Ratings\")\n",
    "plt.xlabel(\"Rating\")\n",
    "plt.ylabel(\"Count\")\n",
    "plt.show()"
   ]
  },
  {
   "cell_type": "code",
   "execution_count": 26,
   "metadata": {},
   "outputs": [
    {
     "data": {
      "image/png": "[encoded data removed]",
      "text/plain": [
       "<Figure size 1000x600 with 1 Axes>"
      ]
     },
     "metadata": {},
     "output_type": "display_data"
    }
   ],
   "source": [
    "all_words = ' '.join(df['cleaned_review']).split()\n",
    "word_counts = Counter(all_words)\n",
    "common_words = word_counts.most_common(20)\n",
    "\n",
    "words, counts = zip(*common_words)\n",
    "plt.figure(figsize=(10, 6))\n",
    "sns.barplot(x=list(counts), y=list(words), palette='plasma')\n",
    "plt.title('Top 20 Most Common Words')\n",
    "plt.xlabel('Count')\n",
    "plt.ylabel('Word')\n",
    "plt.show()"
   ]
  },
  {
   "cell_type": "code",
   "execution_count": 27,
   "metadata": {},
   "outputs": [],
   "source": [
    "df.to_csv('processed_dataset.csv', index=False)"
   ]
  }
 ],
 "metadata": {
  "kernelspec": {
   "display_name": ".venv",
   "language": "python",
   "name": "python3"
  },
  "language_info": {
   "codemirror_mode": {
    "name": "ipython",
    "version": 3
   },
   "file_extension": ".py",
   "mimetype": "text/x-python",
   "name": "python",
   "nbconvert_exporter": "python",
   "pygments_lexer": "ipython3",
   "version": "3.11.0"
  }
 },
 "nbformat": 4,
 "nbformat_minor": 2
}
